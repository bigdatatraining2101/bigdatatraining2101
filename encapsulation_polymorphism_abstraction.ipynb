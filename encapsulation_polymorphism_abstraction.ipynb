{
 "cells": [
  {
   "cell_type": "markdown",
   "id": "4fb551db",
   "metadata": {},
   "source": [
    "## encapsulation"
   ]
  },
  {
   "cell_type": "markdown",
   "id": "f5800ed8",
   "metadata": {},
   "source": [
    "### employee class with protected variable"
   ]
  },
  {
   "cell_type": "code",
   "execution_count": 1,
   "id": "8b5ba5e7",
   "metadata": {},
   "outputs": [],
   "source": [
    "class employee:\n",
    "    def __init__(self,name,experience,salary):\n",
    "        self._name=name #protected variable\n",
    "        self.experience=experience\n",
    "        self.salary=salary\n",
    "    def employee_salary(self):\n",
    "        if self.salary <=50000:\n",
    "            print(self.name, \"is mid_level guy\")\n",
    "        elif self.salary > 50000 and self.salary <= 100000:\n",
    "            print(self.name, \"is senior level guy\")\n",
    "        else:\n",
    "            print(self.name, \"is architect guy\")\n",
    "    def bonus_cal(self):\n",
    "        if self.experience <=4 :\n",
    "            bonus=self.salary*0.1\n",
    "        elif self.experience > 4 and self.experience <=8:\n",
    "            bonus=self.salary*0.2\n",
    "        else:\n",
    "            bonus=self.salary*0.3\n",
    "        return print(\"bonus is\" ,bonus)"
   ]
  },
  {
   "cell_type": "markdown",
   "id": "ead8fb17",
   "metadata": {},
   "source": [
    "### employee class(parent class) with private variable"
   ]
  },
  {
   "cell_type": "code",
   "execution_count": null,
   "id": "595ec2c6",
   "metadata": {},
   "outputs": [],
   "source": [
    "class employee:\n",
    "    def __init__(self,name,experience,salary):\n",
    "        self.__name=name #private variable\n",
    "        self.experience=experience\n",
    "        self.salary=salary\n",
    "    def employee_salary(self):\n",
    "        if self.salary <=50000:\n",
    "            print(self.name, \"is mid_level guy\")\n",
    "        elif self.salary > 50000 and self.salary <= 100000:\n",
    "            print(self.name, \"is senior level guy\")\n",
    "        else:\n",
    "            print(self.name, \"is architect guy\")\n",
    "    def bonus_cal(self):\n",
    "        if self.experience <=4 :\n",
    "            bonus=self.salary*0.1\n",
    "        elif self.experience > 4 and self.experience <=8:\n",
    "            bonus=self.salary*0.2\n",
    "        else:\n",
    "            bonus=self.salary*0.3\n",
    "        return print(\"bonus is\" ,bonus)"
   ]
  },
  {
   "cell_type": "markdown",
   "id": "b5cb9fb0",
   "metadata": {},
   "source": [
    "### rewards class (child class)"
   ]
  },
  {
   "cell_type": "code",
   "execution_count": 6,
   "id": "c14237c4",
   "metadata": {},
   "outputs": [],
   "source": [
    "\n",
    "class rewards(employee):\n",
    "    def __init__(self, name,experience,salary,location):\n",
    "        self.location = location\n",
    "  \n",
    "        # invoking the __init__ of the parent class\n",
    "        employee.__init__(self, name,experience,salary)\n",
    "    def details(self):\n",
    "        print(\"My name is {}\".format(self._name))\n",
    "        print(\"location is {}\".format(self.location))\n",
    "        \n",
    "    def bonus_cal(self):\n",
    "        if self.experience <=4 :\n",
    "            bonus=self.salary*0.2\n",
    "        elif self.experience > 4 and self.experience <=8:\n",
    "            bonus=self.salary*0.3\n",
    "        else:\n",
    "            bonus=self.salary*0.4\n",
    "        return print(\"bonus is\" ,bonus)"
   ]
  },
  {
   "cell_type": "code",
   "execution_count": 7,
   "id": "4502f5c8",
   "metadata": {},
   "outputs": [],
   "source": [
    "subclass_obj=rewards(\"tony\",4,50000,\"India\")"
   ]
  },
  {
   "cell_type": "code",
   "execution_count": 9,
   "id": "589e5739",
   "metadata": {},
   "outputs": [
    {
     "name": "stdout",
     "output_type": "stream",
     "text": [
      "My name is tony\n",
      "location is India\n"
     ]
    }
   ],
   "source": [
    "subclass_obj.details()"
   ]
  },
  {
   "cell_type": "markdown",
   "id": "9fd5fcb6",
   "metadata": {},
   "source": [
    "## polymorphism"
   ]
  },
  {
   "cell_type": "code",
   "execution_count": 14,
   "id": "f4bcea04",
   "metadata": {},
   "outputs": [],
   "source": [
    "class Hyderabad:\n",
    "    def description(self):\n",
    "        print(\"Hyderabad is known for Biryani\")\n",
    "class Delhi:\n",
    "    def description(self):\n",
    "        print(\"Delhi is the capital city of india\")\n"
   ]
  },
  {
   "cell_type": "code",
   "execution_count": 15,
   "id": "c72e8b5c",
   "metadata": {},
   "outputs": [
    {
     "name": "stdout",
     "output_type": "stream",
     "text": [
      "Hyderabad is known for Biryani\n",
      "Delhi is the capital city of india\n"
     ]
    }
   ],
   "source": [
    "Hyderabad = Hyderabad()\n",
    "Delhi = Delhi()\n",
    "for city in (Hyderabad,Delhi):\n",
    " city.description()"
   ]
  },
  {
   "cell_type": "markdown",
   "id": "dddc9b04",
   "metadata": {},
   "source": [
    "## data abstraction"
   ]
  },
  {
   "cell_type": "code",
   "execution_count": 30,
   "id": "c1670c1e",
   "metadata": {},
   "outputs": [],
   "source": [
    "from abc import ABC,abstractmethod"
   ]
  },
  {
   "cell_type": "code",
   "execution_count": 58,
   "id": "5d851322",
   "metadata": {},
   "outputs": [],
   "source": [
    "from abc import ABC, abstractmethod\n",
    "\n",
    "class employee(ABC):\n",
    "    def __init__(self,name):\n",
    "        self.name = name \n",
    "    @abc.abstractmethod\n",
    "    def expertise(self,x):\n",
    "        pass"
   ]
  },
  {
   "cell_type": "code",
   "execution_count": 55,
   "id": "c8c184f4",
   "metadata": {},
   "outputs": [],
   "source": [
    "class expertiseImp(employee):\n",
    "    def expertise(self,x):\n",
    "        print(self.name, \"is expert in python,spark\")"
   ]
  },
  {
   "cell_type": "code",
   "execution_count": 59,
   "id": "fd3eaa98",
   "metadata": {},
   "outputs": [],
   "source": [
    "obj = expertiseImp(\"Honda City\")"
   ]
  },
  {
   "cell_type": "code",
   "execution_count": 57,
   "id": "4b39fff8",
   "metadata": {},
   "outputs": [
    {
     "name": "stdout",
     "output_type": "stream",
     "text": [
      "Honda City is expert in python,spark\n"
     ]
    }
   ],
   "source": [
    "obj.expertise(\"Tony\")"
   ]
  },
  {
   "cell_type": "code",
   "execution_count": null,
   "id": "ac055f1d",
   "metadata": {},
   "outputs": [],
   "source": []
  }
 ],
 "metadata": {
  "kernelspec": {
   "display_name": "Python 3 (ipykernel)",
   "language": "python",
   "name": "python3"
  },
  "language_info": {
   "codemirror_mode": {
    "name": "ipython",
    "version": 3
   },
   "file_extension": ".py",
   "mimetype": "text/x-python",
   "name": "python",
   "nbconvert_exporter": "python",
   "pygments_lexer": "ipython3",
   "version": "3.10.0"
  }
 },
 "nbformat": 4,
 "nbformat_minor": 5
}
