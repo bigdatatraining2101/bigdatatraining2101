{
 "cells": [
  {
   "cell_type": "code",
   "execution_count": null,
   "id": "f4b5fccf",
   "metadata": {},
   "outputs": [],
   "source": [
    "##before creating a class"
   ]
  },
  {
   "cell_type": "code",
   "execution_count": 14,
   "id": "2dc10243",
   "metadata": {},
   "outputs": [],
   "source": [
    "name=\"tony\"\n",
    "salary=50000\n",
    "experience=4"
   ]
  },
  {
   "cell_type": "code",
   "execution_count": 18,
   "id": "db0a30b0",
   "metadata": {},
   "outputs": [],
   "source": [
    "def employee_salary(name,salary):\n",
    "    if salary <=50000:\n",
    "        print(name, \"is mid_level guy\")\n",
    "    elif salary > 50000 and salary <= 100000:\n",
    "        print(name, \"is senior level guy\")\n",
    "    else:\n",
    "        print(name, \"is architect guy\")\n",
    "def bonus_cal(experience,salary):\n",
    "    if experience <=4 :\n",
    "        bonus=salary*0.1\n",
    "    elif experience > 4 and experience <=8:\n",
    "        bonus=salary*0.2\n",
    "    else:\n",
    "        bonus=salary*0.3\n",
    "    return print(\"bonus is\" ,bonus)\n",
    "        "
   ]
  },
  {
   "cell_type": "code",
   "execution_count": 19,
   "id": "266edaf0",
   "metadata": {},
   "outputs": [
    {
     "name": "stdout",
     "output_type": "stream",
     "text": [
      "tony is mid_level guy\n",
      "bonus is 5000.0\n"
     ]
    }
   ],
   "source": [
    "employee_salary(name,salary)\n",
    "bonus_cal(experience,salary)"
   ]
  },
  {
   "cell_type": "markdown",
   "id": "dfc2d4cd",
   "metadata": {},
   "source": [
    "## Adavnatge of class by comapring with above example"
   ]
  },
  {
   "cell_type": "code",
   "execution_count": 55,
   "id": "ac9beb8b",
   "metadata": {},
   "outputs": [],
   "source": [
    "class employee:\n",
    "    def __init__(self,name,experience,salary):\n",
    "        self.name=name\n",
    "        self.experience=experience\n",
    "        self.salary=salary\n",
    "    def employee_salary(self):\n",
    "        if self.salary <=50000:\n",
    "            print(self.name, \"is mid_level guy\")\n",
    "        elif self.salary > 50000 and self.salary <= 100000:\n",
    "            print(self.name, \"is senior level guy\")\n",
    "        else:\n",
    "            print(self.name, \"is architect guy\")\n",
    "    def bonus_cal(self):\n",
    "        if self.experience <=4 :\n",
    "            bonus=self.salary*0.1\n",
    "        elif self.experience > 4 and self.experience <=8:\n",
    "            bonus=self.salary*0.2\n",
    "        else:\n",
    "            bonus=self.salary*0.3\n",
    "        return print(\"bonus is\" ,bonus)"
   ]
  },
  {
   "cell_type": "code",
   "execution_count": 60,
   "id": "093b1fec",
   "metadata": {},
   "outputs": [],
   "source": [
    "employee1=employee(\"tony\",4,50000)\n",
    "employee2=employee(\"martin\",5,75000)"
   ]
  },
  {
   "cell_type": "code",
   "execution_count": 61,
   "id": "c7153835",
   "metadata": {},
   "outputs": [
    {
     "name": "stdout",
     "output_type": "stream",
     "text": [
      "martin is senior level guy\n",
      "bonus is 15000.0\n"
     ]
    }
   ],
   "source": [
    "employee2.employee_salary()\n",
    "employee2.bonus_cal()"
   ]
  },
  {
   "cell_type": "markdown",
   "id": "cbae05bf",
   "metadata": {},
   "source": [
    "# Inheritance"
   ]
  },
  {
   "cell_type": "code",
   "execution_count": 64,
   "id": "efc68512",
   "metadata": {},
   "outputs": [],
   "source": [
    "#child class\n",
    "class rewards(employee):\n",
    "    def __init__(self, name,experience,salary,location):\n",
    "        self.location = location\n",
    "  \n",
    "        # invoking the __init__ of the parent class\n",
    "        employee.__init__(self, name,experience,salary)\n",
    "    def details(self):\n",
    "        print(\"My name is {}\".format(self.name))\n",
    "        print(\"location is {}\".format(self.location))\n",
    "        \n",
    "    def bonus_cal(self):\n",
    "        if self.experience <=4 :\n",
    "            bonus=self.salary*0.2\n",
    "        elif self.experience > 4 and self.experience <=8:\n",
    "            bonus=self.salary*0.3\n",
    "        else:\n",
    "            bonus=self.salary*0.4\n",
    "        return print(\"bonus is\" ,bonus)"
   ]
  },
  {
   "cell_type": "code",
   "execution_count": 71,
   "id": "a5db96e1",
   "metadata": {},
   "outputs": [],
   "source": [
    "employee_rewards1=rewards(\"tony\",4,50000,\"India\")"
   ]
  },
  {
   "cell_type": "code",
   "execution_count": 72,
   "id": "d5432788",
   "metadata": {},
   "outputs": [
    {
     "name": "stdout",
     "output_type": "stream",
     "text": [
      "My name is tony\n",
      "location is India\n",
      "bonus is 10000.0\n"
     ]
    }
   ],
   "source": [
    "employee_rewards1.details()\n",
    "employee_rewards1.bonus_cal()"
   ]
  },
  {
   "cell_type": "code",
   "execution_count": null,
   "id": "ea9d7713",
   "metadata": {},
   "outputs": [],
   "source": []
  }
 ],
 "metadata": {
  "kernelspec": {
   "display_name": "Python 3 (ipykernel)",
   "language": "python",
   "name": "python3"
  },
  "language_info": {
   "codemirror_mode": {
    "name": "ipython",
    "version": 3
   },
   "file_extension": ".py",
   "mimetype": "text/x-python",
   "name": "python",
   "nbconvert_exporter": "python",
   "pygments_lexer": "ipython3",
   "version": "3.10.0"
  }
 },
 "nbformat": 4,
 "nbformat_minor": 5
}
